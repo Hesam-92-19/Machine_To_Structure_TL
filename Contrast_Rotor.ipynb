{
 "cells": [
  {
   "cell_type": "code",
   "execution_count": 1,
   "id": "0b481087",
   "metadata": {},
   "outputs": [],
   "source": [
    "#!pip install scipy\n",
    "#!pip install sklearn\n",
    "#!pip install h5py"
   ]
  },
  {
   "cell_type": "code",
   "execution_count": 2,
   "id": "07a80fa7",
   "metadata": {},
   "outputs": [],
   "source": [
    "import torch\n",
    "from scipy.stats import norm\n",
    "import torch.nn as nn\n",
    "from torchvision import datasets\n",
    "from torchvision import transforms\n",
    "from torch.utils.data import DataLoader\n",
    "from torchvision.datasets import ImageFolder\n",
    "from sklearn.mixture import GaussianMixture as GMM\n",
    "import numpy as np\n",
    "import os\n",
    "!pip install torchsummary\n",
    "import  torchsummary as tt\n",
    "import matplotlib.pyplot as plt\n",
    "import matplotlib.gridspec as gridspec\n",
    "import scipy.io\n",
    "%matplotlib inline\n",
    "plt.rcParams['figure.figsize'] = (10.0, 8.0) # set default size of plots\n",
    "plt.rcParams['image.interpolation'] = 'nearest'\n",
    "plt.rcParams['image.cmap'] = 'gray'\n",
    "\n",
    "%load_ext autoreload\n",
    "%autoreload 2\n",
    "device = torch.device(\"cuda:0\" if torch.cuda.is_available() else \"cpu\")\n",
    "\n",
    "\n",
    "import numpy as np\n",
    "import h5py\n",
    "import math\n",
    "import time\n",
    "from random import shuffle\n",
    "import matplotlib.pyplot as plt\n",
    "from sklearn.preprocessing import MinMaxScaler\n",
    "import torch\n",
    "import torch.nn as nn\n",
    "from torchvision import datasets\n",
    "from torchvision import transforms\n",
    "from torch.utils.data import DataLoader\n",
    "from torchvision.datasets import ImageFolder\n",
    "import pickle\n",
    "import numpy as np\n",
    "import os\n",
    "!pip install mat73\n",
    "import mat73\n",
    "import matplotlib.pyplot as plt\n",
    "import matplotlib.gridspec as gridspec\n",
    "import tqdm\n",
    "from tqdm.notebook import tqdm"
   ]
  },
  {
   "cell_type": "code",
   "execution_count": null,
   "id": "285da1d7-6aae-44e7-a7e9-95aad9b06c29",
   "metadata": {},
   "outputs": [],
   "source": [
    "# CL-Network\n",
    "class CustomNeuralNetworkS15(nn.Module):\n",
    "    def __init__(self):\n",
    "        super().__init__()\n",
    "        super(CustomNeuralNetworkS15, self).__init__()\n",
    "        Stacked_Layers=1\n",
    "        self.lstm1 = nn.LSTM(int(W/2), 100, Stacked_Layers, batch_first=True)\n",
    "        self.lstm2 = nn.LSTM(int(W/2), 100, Stacked_Layers, batch_first=True)\n",
    "        self.lstm3 = nn.LSTM(int(W/2), 100, Stacked_Layers, batch_first=True)\n",
    "        self.lstm4 = nn.LSTM(int(W/2), 100, Stacked_Layers, batch_first=True)\n",
    "        self.Flatten = nn.Flatten()\n",
    "        self.FC1=nn.Linear(400,100)\n",
    "        self.FC2=nn.Linear(100,1)\n",
    "        self.LR1 = nn.LeakyReLU(0.2)\n",
    "        self.LR2 = nn.LeakyReLU(0.2)\n",
    "        self.LR3 = nn.ReLU()\n",
    "        self.Sig=nn.Sigmoid()\n",
    "\n",
    "    def forward(self, x):\n",
    "\n",
    "        out1,state = self.lstm1(x[:,:,0:int(W/2)])\n",
    "        out2,state = self.lstm2(x[:,:,int(W/2):2*int(W/2)])\n",
    "        out3,state = self.lstm3(x[:,:,2*int(W/2):3*int(W/2)])\n",
    "        out4,state = self.lstm4(x[:,:,3*int(W/2):4*int(W/2)])\n",
    "        LL=torch.cat((out1,out2,out3,out4),dim=2)\n",
    "        LLA=self.LR1(LL)\n",
    "        outCL=self.Flatten(LLA)\n",
    "        outNF=self.FC1(outCL)\n",
    "        LLB=self.LR1(outNF)        \n",
    "        outF=self.FC2(LLB)\n",
    "        outF=self.LR3(outF)\n",
    "        return outF\n"
   ]
  },
  {
   "cell_type": "code",
   "execution_count": null,
   "id": "2b0829a0-983c-4ce0-bc57-0a94a1e491d2",
   "metadata": {},
   "outputs": [
    {
     "data": {
      "application/vnd.jupyter.widget-view+json": {
       "model_id": "566a1f3522cb448d8966c464aaa53255",
       "version_major": 2,
       "version_minor": 0
      },
      "text/plain": [
       "for RM datasets A, B, and C:   0%|          | 0/1 [00:00<?, ?it/s]"
      ]
     },
     "metadata": {},
     "output_type": "display_data"
    },
    {
     "name": "stdout",
     "output_type": "stream",
     "text": [
      "Min RM class samples:\t 768\n",
      "RM data case length is thu staken as:\t 700\n"
     ]
    },
    {
     "data": {
      "application/vnd.jupyter.widget-view+json": {
       "model_id": "192cda6341424ee0a0bb96873a1a0e9d",
       "version_major": 2,
       "version_minor": 0
      },
      "text/plain": [
       "RM B class-by-class training:   0%|          | 0/1 [00:00<?, ?it/s]"
      ]
     },
     "metadata": {},
     "output_type": "display_data"
    },
    {
     "name": "stdout",
     "output_type": "stream",
     "text": [
      "2.2730139335180866e-06\n"
     ]
    }
   ],
   "source": [
    "# Three Dataset exists, 'A', 'B', 'C'\n",
    "W=2000\n",
    "S=4\n",
    "for RM_N in tqdm(['B'],desc='for RM datasets A, B, and C'):\n",
    "    cwd='C:/Users/15404/Documents/Conda Codes/Rotor/'\n",
    "    # Rotor data\n",
    "    Rot_Data=np.load(cwd+RM_N+'_RM_S4_'+str(W)+'.npy')\n",
    "    # Samples in each Rotor data case\n",
    "    Class_N=np.cumsum(np.load(cwd+RM_N+'_RM_Classes_'+str(W)+'.npy'))\n",
    "    # Minimum is\n",
    "    print('Min RM class samples:\\t',np.min(np.load(cwd+RM_N+'_RM_Classes_'+str(W)+'.npy')))\n",
    "    # we thus take \n",
    "    Class_L=int(np.floor(np.min(np.load(cwd+RM_N+'_RM_Classes_'+str(W)+'.npy'))/100))*100\n",
    "    print('RM data case length is thu staken as:\\t',Class_L)\n",
    "    N=torch.tensor(Rot_Data[0:Class_L,:],device='cuda').reshape((Class_L,1,int(S*W/2))).float()\n",
    "    Rot_Data.shape\n",
    "    \n",
    "    # Training\n",
    "    #Many Class_N\n",
    "    #ModelB=0\n",
    "    #ModelC=2\n",
    "    for tt in tqdm(range(3,4),desc='RM '+RM_N+' class-by-class training'):\n",
    "        #print('RM '+RM_N+' Class '+str(tt+1))\n",
    "        DD1=Class_L-100\n",
    "        #int(np.floor((Class_L-100)/2))\n",
    "        N=torch.tensor(Rot_Data[0:Class_L-100,:],device='cuda').reshape((Class_L-100,1,int(S*W/2))).float()\n",
    "        D=torch.tensor(Rot_Data[int(Class_N[tt]):Class_N[tt]+DD1,:],device='cuda').reshape((DD1,1,int(S*W/2))).float()\n",
    "        #D1=torch.tensor(Rot_Data[int(Class_N[tt]):Class_N[tt]+DD1,:],device='cuda').reshape((DD1,1,int(S*W/2))).float()\n",
    "        ## vAL\n",
    "        NV=torch.tensor(Rot_Data[Class_L-100:Class_L,:],device='cuda').reshape((100,1,int(S*W/2))).float()\n",
    "        DV=torch.tensor(Rot_Data[Class_N[tt]+DD1:Class_N[tt]+DD1+100,:],device='cuda').reshape((100,1,int(S*W/2))).float()\n",
    "        \n",
    "        GG=80\n",
    "        GG1=0\n",
    "        Y=torch.tensor(np.zeros((Class_L-100,1)), device='cuda').float()\n",
    "        Y[:,0]=GG1\n",
    "        Y1=torch.tensor(np.zeros((Class_L-100,1)), device='cuda').float()\n",
    "        Y1[:,0]=GG\n",
    "    \n",
    "    \n",
    "        YV=torch.tensor(np.zeros((100,1)), device='cuda').float()\n",
    "        YV[:,0]=GG1\n",
    "        YV1=torch.tensor(np.zeros((100,1)), device='cuda').float()\n",
    "        YV1[:,0]=GG\n",
    "    \n",
    "        X=torch.cat((N,D),dim=0)\n",
    "        #,D1),dim=0)\n",
    "        XV=torch.cat((NV,DV),dim=0)\n",
    "        y=torch.cat((Y,Y1),dim=0)\n",
    "        yv=torch.cat((YV,YV1),dim=0)\n",
    "        from torch.utils.data import TensorDataset, DataLoader\n",
    "        dataset = TensorDataset(X, y)\n",
    "        data_loader = DataLoader(dataset, 200, shuffle=True)\n",
    "        \n",
    "    ###########\n",
    "        Net=CustomNeuralNetworkS15().to(device=device)\n",
    "        Net.train()\n",
    "        epoch=1000\n",
    "        crit=torch.nn.functional.mse_loss\n",
    "        L=[]\n",
    "        lam=0\n",
    "        D_solver = torch.optim.Adam(Net.parameters(), lr=5e-4, betas=(0.9, 0.999))\n",
    "        pr=1\n",
    "        zet=0\n",
    "        L_V=[1000]\n",
    "        L_T=[]\n",
    "        pp=0\n",
    "        for i in range(epoch):\n",
    "            for XX,yy in data_loader:\n",
    "                pred=Net.forward(XX)\n",
    "                loss=crit(pred,yy) \n",
    "                D_solver.zero_grad()\n",
    "                loss.backward()\n",
    "                D_solver.step()\n",
    "                if zet==0:\n",
    "                    L_T.append(loss.item())\n",
    "                if loss.item()>max(L_T):\n",
    "                    Net=CustomNeuralNetworkS15().to(device=device)\n",
    "                    Net.train()  \n",
    "                    D_solver = torch.optim.Adam(Net.parameters(), lr=5e-4, betas=(0.9, 0.999))\n",
    "                    zet=0\n",
    "                    L_T=[]\n",
    "                L_T.append(loss.item())\n",
    "            predA=Net.forward(XV)\n",
    "            lossA=crit(predA,yv) \n",
    "\n",
    "            \n",
    "            if lossA.item()<=np.min(L_V):\n",
    "                torch.save(Net,cwd+'Models/NT/Model'+RM_N+str(tt+1)+'_W_'+str(W)+'.pth')\n",
    "                pp=pp+1\n",
    "            L_V.append(lossA.item())\n",
    "            zet+=1\n",
    "        print(loss.item())"
   ]
  },
  {
   "cell_type": "code",
   "execution_count": null,
   "id": "e832b97d-f96a-4bca-a130-8fbd8075f38b",
   "metadata": {},
   "outputs": [
    {
     "data": {
      "text/plain": [
       "'C:/Users/15404/Documents/Conda Codes/Rotor/Models/NT/ModelB4_W_2000.pth'"
      ]
     },
     "execution_count": 29,
     "metadata": {},
     "output_type": "execute_result"
    }
   ],
   "source": [
    "cwd+'Models/NT/Model'+RM_N+str(tt+1)+'_W_'+str(W)+'.pth'"
   ]
  },
  {
   "cell_type": "code",
   "execution_count": null,
   "id": "dd87f37b-b070-4cd6-be75-5c97b9f77e88",
   "metadata": {},
   "outputs": [],
   "source": []
  }
 ],
 "metadata": {
  "kernelspec": {
   "display_name": "Python 3 (ipykernel)",
   "language": "python",
   "name": "python3"
  },
  "language_info": {
   "codemirror_mode": {
    "name": "ipython",
    "version": 3
   },
   "file_extension": ".py",
   "mimetype": "text/x-python",
   "name": "python",
   "nbconvert_exporter": "python",
   "pygments_lexer": "ipython3",
   "version": "3.11.7"
  }
 },
 "nbformat": 4,
 "nbformat_minor": 5
}
