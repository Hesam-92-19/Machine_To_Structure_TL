{
 "cells": [
  {
   "cell_type": "code",
   "execution_count": 1,
   "metadata": {},
   "outputs": [],
   "source": [
    "import os\n",
    "import torch\n",
    "from IPython.display import HTML\n",
    "import ipywidgets as widgets\n",
    "from IPython.display import display\n",
    "from ipywidgets import interactive\n",
    "cwd=os.getcwd()\n",
    "os.chdir(cwd)\n",
    "cwd+='/'\n",
    "from Utils import  RM_FS_TL, CustomNeuralNetworkS16, CustomNeuralNetworkS15\n",
    "A=RM_FS_TL(cwd)\n",
    "import matplotlib.pyplot as plt"
   ]
  },
  {
   "cell_type": "code",
   "execution_count": 2,
   "metadata": {},
   "outputs": [
    {
     "data": {
      "application/vnd.jupyter.widget-view+json": {
       "model_id": "264712e5d97745bb885e5b33aea03389",
       "version_major": 2,
       "version_minor": 0
      },
      "text/plain": [
       "interactive(children=(Dropdown(description='RM_Class', options=('1', '2', '3', '4', '5', '6', '7', '8', '9'), …"
      ]
     },
     "metadata": {},
     "output_type": "display_data"
    }
   ],
   "source": [
    "'''\n",
    "Single model plots: This snippet shows SDD outcomes between various RM (Rotating Machinery) dataset and target QUGS and Yellow Frame target structures.\n",
    "RM Dataset:\n",
    "A: Torque 0 Nm\n",
    "B: Torque 2 Nm\n",
    "C: Torque 4 Nm\n",
    "\n",
    "Folders PT and NT: PT are the CL models we trained and you may choose to reproduce the paper results\n",
    "Additionally, you may train new models with the other \"CL-Training.ipynb\" code, which are then be stored in \n",
    "folder NT. When you train those, you may produce SDD results by opting for \"NT\" folder.\n",
    "\n",
    "'''\n",
    "Single_plot = interactive(A.single_model, \n",
    "                                RM_Class=['1', '2', '3', '4', '5','6','7','8','9'],RM_N=['A','B','C'],Target_N=['Yellow','QUGS'],folder=['PT','NT'])\n",
    "\n",
    "output = Single_plot.children[-1]\n",
    "output.layout.height = '350px'\n",
    "Single_plot"
   ]
  },
  {
   "cell_type": "code",
   "execution_count": 3,
   "metadata": {},
   "outputs": [
    {
     "data": {
      "application/vnd.jupyter.widget-view+json": {
       "model_id": "2f031b898f674a25aebd298fbca364dc",
       "version_major": 2,
       "version_minor": 0
      },
      "text/plain": [
       "interactive(children=(Dropdown(description='RM_N', options=('A', 'B', 'C'), value='A'), Dropdown(description='…"
      ]
     },
     "metadata": {},
     "output_type": "display_data"
    }
   ],
   "source": [
    "'''\n",
    "Ensemble plots: This snippet shows SDD outcomes between various RM (Rotating Machinery) dataset and target QUGS and Yellow Frame target structures.\n",
    "RM Dataset:\n",
    "A: Torque 0 Nm\n",
    "B: Torque 2 Nm\n",
    "C: Torque 4 Nm\n",
    "\n",
    "Folders PT and NT: PT are the CL models we trained and you may choose to reproduce the paper results\n",
    "Additionally, you may train new models with the other \"CL-Training.ipynb\" code, which are then be stored in \n",
    "folder NT. When you train those, you may produce SDD results by opting for \"NT\" folder.\n",
    "\n",
    "Outcome is a plot that shows the mea F1 score across all damage cases for the chosen setting.\n",
    "\n",
    "'''\n",
    "\n",
    "Ensemble_plot = interactive(A.ensemble_model,RM_N=['A','B','C'],Target_N=['Yellow','QUGS'],folder=['PT','NT'])\n",
    "output = Single_plot.children[-1]\n",
    "output.layout.height = '350px'\n",
    "Ensemble_plot"
   ]
  },
  {
   "cell_type": "code",
   "execution_count": 4,
   "metadata": {},
   "outputs": [
    {
     "data": {
      "application/vnd.jupyter.widget-view+json": {
       "model_id": "1a71b1fa43c64fee992b7e6a862ef931",
       "version_major": 2,
       "version_minor": 0
      },
      "text/plain": [
       "interactive(children=(Dropdown(description='Target_N', options=('Yellow', 'QUGS'), value='Yellow'), Output()),…"
      ]
     },
     "metadata": {},
     "output_type": "display_data"
    }
   ],
   "source": [
    "'''\n",
    "Ensemble \"All\" plots and comparison: This snippet shows SDD outcomes by ensembeling all RM data cases as the source\n",
    "and compare the outcome with two additional Balanced supervised and AE-Zero-shot models. \n",
    "\n",
    "For AE and Blaanced Supervised models, 10 different models were trained and the mean values are shown.\n",
    "\n",
    "'''\n",
    "Ensemble_plot = interactive(A.Ensemble_All_Comp,Target_N=['Yellow','QUGS'])\n",
    "output = Single_plot.children[-1]\n",
    "output.layout.height = '350px'\n",
    "Ensemble_plot\n"
   ]
  }
 ],
 "metadata": {
  "kernelspec": {
   "display_name": "base",
   "language": "python",
   "name": "python3"
  },
  "language_info": {
   "codemirror_mode": {
    "name": "ipython",
    "version": 3
   },
   "file_extension": ".py",
   "mimetype": "text/x-python",
   "name": "python",
   "nbconvert_exporter": "python",
   "pygments_lexer": "ipython3",
   "version": "3.11.7"
  }
 },
 "nbformat": 4,
 "nbformat_minor": 2
}
